{
 "cells": [
  {
   "cell_type": "code",
   "execution_count": 12,
   "id": "777e2ed4-877f-41ee-a894-8fa82a75d03b",
   "metadata": {},
   "outputs": [],
   "source": [
    "from qiskit_nature.drivers import UnitsType, Molecule\n",
    "from qiskit_nature.drivers.second_quantization import ElectronicStructureMoleculeDriver, ElectronicStructureDriverType\n",
    "from qiskit_nature.problems.second_quantization import ElectronicStructureProblem\n",
    "from qiskit_nature.converters.second_quantization import QubitConverter\n",
    "from qiskit_nature.mappers.second_quantization import JordanWignerMapper, ParityMapper\n",
    "from qiskit.providers.aer import StatevectorSimulator\n",
    "from qiskit import IBMQ, BasicAer, Aer\n",
    "from qiskit.utils import QuantumInstance\n",
    "from qiskit_nature.algorithms import VQEUCCFactory\n",
    "from qiskit_nature.algorithms import GroundStateEigensolver\n",
    "from qiskit.algorithms import NumPyMinimumEigensolver\n",
    "from qiskit.ignis.mitigation.measurement import CompleteMeasFitter\n",
    "from qiskit.providers.aer.noise import NoiseModel\n",
    "from matplotlib import pyplot as plt\n",
    "from time import process_time\n",
    "import numpy as np\n",
    "from qiskit_nature.transformers.second_quantization.electronic import ActiveSpaceTransformer\n",
    "from qiskit_nature.properties.second_quantization.electronic import ParticleNumber\n",
    "from qiskit.algorithms.optimizers import SPSA,COBYLA, SLSQP\n",
    "from qiskit.circuit.library import EfficientSU2\n",
    "from qiskit.providers.basicaer import QasmSimulatorPy  # local simulator\n",
    "from qiskit.algorithms import VQE\n",
    "from qiskit_nature.runtime import VQEClient\n",
    "import pickle"
   ]
  },
  {
   "cell_type": "code",
   "execution_count": 41,
   "id": "0e169507-a723-46a4-a355-43f191f34c49",
   "metadata": {},
   "outputs": [],
   "source": [
    "def model_builder(atom, distance, backend=None, optimizer_name=None):\n",
    "    t1_start = process_time() \n",
    "    molecule = Molecule(\n",
    "    # coordinates are given in Angstrom\n",
    "        geometry=[\n",
    "            [atom, [0.0, 0.0, 0.0]],\n",
    "            [\"H\", [0.0, 0.0, distance]],\n",
    "        ],\n",
    "        multiplicity=1,  # = 2*spin + 1\n",
    "        charge=0,\n",
    "    )\n",
    "    driver = ElectronicStructureMoleculeDriver(\n",
    "        molecule=molecule,\n",
    "        basis=\"sto3g\",\n",
    "        driver_type=ElectronicStructureDriverType.PYSCF,\n",
    "    )\n",
    "    \n",
    "    properties = driver.run()\n",
    "    \n",
    "    particle_number = properties.get_property(ParticleNumber)\n",
    "    \n",
    "    # Active space transform\n",
    "    \n",
    "    if atom == \"H\":\n",
    "        num_orbital = 2\n",
    "        num_qubit   = 2\n",
    "    elif atom == \"Li\":\n",
    "        num_orbital = 3\n",
    "        num_qubit   = 4\n",
    "    else:\n",
    "        pass\n",
    "    active_space_trafo = ActiveSpaceTransformer(\n",
    "                         num_electrons=particle_number.num_particles, num_molecular_orbitals=num_orbital\n",
    "                         )\n",
    "    # get hamiltonian\n",
    "    es_problem = ElectronicStructureProblem(driver, transformers=[active_space_trafo])\n",
    "    second_q_op = es_problem.second_q_ops()\n",
    "    \n",
    "    # convert hamiltonian to qubit operator -> use Parity Mapper -> Reduce needed qubit from 4 to 2\n",
    "    qubit_converter = QubitConverter(mapper=ParityMapper(), two_qubit_reduction=True)\n",
    "    qubit_op = qubit_converter.convert(second_q_op[0], num_particles=es_problem.num_particles)\n",
    "    \n",
    "    # Solver [Exact]\n",
    "    if backend == \"numpy_eigen_solver\":\n",
    "        solver = NumPyMinimumEigensolver()\n",
    "    else:\n",
    "        # Initialization\n",
    "        ansatz = EfficientSU2(num_qubits=num_qubit, reps=1, entanglement=\"linear\", insert_barriers=True)\n",
    "        np.random.seed(2)  # fix seed for reproducibility\n",
    "        initial_point = np.random.random(ansatz.num_parameters)\n",
    "        \n",
    "        # Set optimizer\n",
    "        if optimizer_name == \"SPSA\":\n",
    "            optimizer = SPSA(maxiter=200)\n",
    "        elif optimizer_name == \"COBYLA\":\n",
    "            optimizer = COBYLA(maxiter=500, tol=0.0001)\n",
    "        else:\n",
    "            optimizer = optimizer = SLSQP(maxiter=5)\n",
    "            \n",
    "        # Real device\n",
    "        if backend == \"runtime\":\n",
    "            IBMQ.load_account()\n",
    "            provider = IBMQ.get_provider(hub='ibm-q')\n",
    "            backend = provider.get_backend(\"ibmq_lima\")  # select a backend that supports the runtime\n",
    "            optimizer_runtime = {\n",
    "                \"name\": optimizer_name,\n",
    "                \"maxiter\": 100,\n",
    "                \"resamplings\": {1: 100},  # 100 samples of the QFI for the first step, then 1 sample per step\n",
    "            }\n",
    "\n",
    "            solver = VQEClient(\n",
    "                ansatz=ansatz,\n",
    "                optimizer=optimizer_runtime,\n",
    "                initial_point=initial_point,\n",
    "                provider=provider,\n",
    "                backend=backend,\n",
    "                shots=1024,\n",
    "                measurement_error_mitigation=True,\n",
    "            ) \n",
    "\n",
    "        else:\n",
    "            # State vector simulation\n",
    "            if backend == \"aer_simulator_statevector\":\n",
    "                Quantum_instance = QuantumInstance(backend=Aer.get_backend(backend))\n",
    "            # Noise model simulation\n",
    "            else:\n",
    "                Quantum_instance=QasmSimulatorPy()\n",
    "    \n",
    "            solver = VQE(\n",
    "                ansatz=ansatz,\n",
    "                optimizer=optimizer,\n",
    "                initial_point=initial_point,\n",
    "                quantum_instance=Quantum_instance,\n",
    "                )\n",
    "\n",
    "    \n",
    "    #Solving problem \n",
    "    ground_state_solver = GroundStateEigensolver(qubit_converter, solver)\n",
    "    res = ground_state_solver.solve(es_problem)\n",
    "    \n",
    "    # Output\n",
    "    t1_stop = process_time()\n",
    "\n",
    "    return np.real(res.eigenenergies + res.nuclear_repulsion_energy)[0], t1_stop-t1_start"
   ]
  },
  {
   "cell_type": "code",
   "execution_count": 42,
   "id": "f5729b69-c3a8-4b6e-a2f8-74cf689581fc",
   "metadata": {
    "scrolled": true,
    "tags": []
   },
   "outputs": [
    {
     "name": "stdout",
     "output_type": "stream",
     "text": [
      "numpy_eigen_solver  optimizer:  SPSA\n",
      "dist:  0.5 energy:  -7.029087312665569 take time:  38.55905839499974\n",
      "dist:  0.7 energy:  -7.486151969490381 take time:  35.745972628003074\n",
      "dist:  0.8999999999999999 energy:  -7.705948142268065 take time:  32.232714593999845\n",
      "dist:  1.0999999999999999 energy:  -7.808956692531726 take time:  35.38939710100021\n",
      "dist:  1.2999999999999998 energy:  -7.852202267396665 take time:  29.776706263997767\n",
      "dist:  1.4999999999999998 energy:  -7.863664119201298 take time:  35.55841028299983\n",
      "dist:  1.6999999999999997 energy:  -7.857550516688656 take time:  32.90679643399926\n",
      "numpy_eigen_solver  optimizer:  COBYLA\n",
      "dist:  0.5 energy:  -7.029087312665544 take time:  36.73835918199984\n",
      "dist:  0.7 energy:  -7.486151969490363 take time:  33.06134218999796\n",
      "dist:  0.8999999999999999 energy:  -7.705948142268062 take time:  31.395297996001318\n",
      "dist:  1.0999999999999999 energy:  -7.808956692531716 take time:  34.51091829699726\n",
      "dist:  1.2999999999999998 energy:  -7.852202267396644 take time:  29.01597455099909\n",
      "dist:  1.4999999999999998 energy:  -7.863664119201301 take time:  31.53494526799841\n",
      "dist:  1.6999999999999997 energy:  -7.857550516688628 take time:  35.89974273900225\n",
      "aer_simulator_statevector  optimizer:  SPSA\n",
      "dist:  0.5 energy:  -6.878728201806577 take time:  37.98254624299807\n",
      "dist:  0.7 energy:  -7.4149075443494805 take time:  34.6750533839986\n",
      "dist:  0.8999999999999999 energy:  -7.675117388331472 take time:  31.524379981001402\n",
      "dist:  1.0999999999999999 energy:  -7.7491630450493325 take time:  35.53561693699885\n",
      "dist:  1.2999999999999998 energy:  -7.655678023879441 take time:  32.57536630100003\n",
      "dist:  1.4999999999999998 energy:  -7.699077251082775 take time:  36.242264614000305\n",
      "dist:  1.6999999999999997 energy:  -7.650216166691944 take time:  35.27312150999933\n",
      "aer_simulator_statevector  optimizer:  COBYLA\n",
      "dist:  0.5 energy:  -6.9994220847069215 take time:  39.20315761800157\n",
      "dist:  0.7 energy:  -7.484127341569513 take time:  35.57536015699952\n",
      "dist:  0.8999999999999999 energy:  -7.705038683453237 take time:  33.55984187500144\n",
      "dist:  1.0999999999999999 energy:  -7.808656532379636 take time:  36.05409897299978\n",
      "dist:  1.2999999999999998 energy:  -7.851693541287737 take time:  35.41473949899955\n",
      "dist:  1.4999999999999998 energy:  -7.863250971614201 take time:  37.65983741799937\n",
      "dist:  1.6999999999999997 energy:  -7.856899624650763 take time:  36.32297033800205\n",
      "qasm_simulator  optimizer:  SPSA\n",
      "dist:  0.5 energy:  -6.988218605168461 take time:  214.64426764900054\n",
      "dist:  0.7 energy:  -7.469682482892781 take time:  212.39661944399995\n",
      "dist:  0.8999999999999999 energy:  -7.596191341680658 take time:  209.21756171800007\n",
      "dist:  1.0999999999999999 energy:  -7.7903661951058005 take time:  209.17476749599882\n",
      "dist:  1.2999999999999998 energy:  -7.698627355092585 take time:  206.34930876699946\n",
      "dist:  1.4999999999999998 energy:  -7.3752863203846335 take time:  209.8457980860003\n",
      "dist:  1.6999999999999997 energy:  -7.587748430518337 take time:  213.08300247399893\n",
      "qasm_simulator  optimizer:  COBYLA\n",
      "dist:  0.5 energy:  -6.58689569697594 take time:  93.84363444400151\n",
      "dist:  0.7 energy:  -6.992684865430856 take time:  105.41830128299989\n",
      "dist:  0.8999999999999999 energy:  -7.2427238078077085 take time:  103.09980988499956\n",
      "dist:  1.0999999999999999 energy:  -7.281014692566481 take time:  100.30125967200001\n",
      "dist:  1.2999999999999998 energy:  -7.325543324682847 take time:  88.9121752179999\n",
      "dist:  1.4999999999999998 energy:  -7.122000221476549 take time:  94.34543045099781\n",
      "dist:  1.6999999999999997 energy:  -7.2157783805296685 take time:  96.29275623400099\n"
     ]
    }
   ],
   "source": [
    "distances = np.arange(0.5, 1.8, 0.2)\n",
    "backend_list = [\"numpy_eigen_solver\",\"aer_simulator_statevector\",\"qasm_simulator\"]\n",
    "optimizers = [\"SPSA\",\"COBYLA\"]\n",
    "d = dict()\n",
    "for back in backend_list:\n",
    "    for op in optimizers:\n",
    "        print(back,\" optimizer: \", op)\n",
    "        d[back+op] = []\n",
    "        d[back+op+\"_time\"] = []\n",
    "        for distance in distances:\n",
    "            energy, runtime = model_builder(\"Li\",distance, back, op)\n",
    "            d[back+op].append(energy)\n",
    "            d[back+op+\"_time\"].append(runtime)\n",
    "            print(\"dist: \",distance,\"energy: \", energy, \"take time: \", runtime)"
   ]
  },
  {
   "cell_type": "code",
   "execution_count": 43,
   "id": "de9a5eb4-0257-4715-bdd3-70cdc25ae469",
   "metadata": {},
   "outputs": [],
   "source": [
    "with open('LiH_sim_iter.pickle', 'wb') as f:\n",
    "    pickle.dump(d, f)"
   ]
  },
  {
   "cell_type": "code",
   "execution_count": 10,
   "id": "72fc2aca-274c-4a53-89e8-67c0bd45b7d6",
   "metadata": {
    "scrolled": true,
    "tags": []
   },
   "outputs": [
    {
     "name": "stdout",
     "output_type": "stream",
     "text": [
      "runtime  optimizer:  SPSA\n"
     ]
    },
    {
     "name": "stderr",
     "output_type": "stream",
     "text": [
      "ibmqfactory.load_account:WARNING:2022-06-08 07:40:17,102: Credentials are already in use. The existing account in the session will be replaced.\n"
     ]
    },
    {
     "name": "stdout",
     "output_type": "stream",
     "text": [
      "dist:  2.1 energy:  -7.597126250947364 take time:  39.2972068680001\n"
     ]
    },
    {
     "name": "stderr",
     "output_type": "stream",
     "text": [
      "ibmqfactory.load_account:WARNING:2022-06-08 08:33:12,926: Credentials are already in use. The existing account in the session will be replaced.\n"
     ]
    },
    {
     "name": "stdout",
     "output_type": "stream",
     "text": [
      "dist:  2.3000000000000003 energy:  -7.4225300007257555 take time:  36.42758821900043\n"
     ]
    },
    {
     "name": "stderr",
     "output_type": "stream",
     "text": [
      "ibmqfactory.load_account:WARNING:2022-06-08 09:25:13,448: Credentials are already in use. The existing account in the session will be replaced.\n"
     ]
    },
    {
     "ename": "KeyboardInterrupt",
     "evalue": "",
     "output_type": "error",
     "traceback": [
      "\u001b[0;31m---------------------------------------------------------------------------\u001b[0m",
      "\u001b[0;31mKeyboardInterrupt\u001b[0m                         Traceback (most recent call last)",
      "Input \u001b[0;32mIn [10]\u001b[0m, in \u001b[0;36m<cell line: 5>\u001b[0;34m()\u001b[0m\n\u001b[1;32m      9\u001b[0m d_real[back\u001b[38;5;241m+\u001b[39m\u001b[38;5;124m\"\u001b[39m\u001b[38;5;124m_time\u001b[39m\u001b[38;5;124m\"\u001b[39m] \u001b[38;5;241m=\u001b[39m []\n\u001b[1;32m     10\u001b[0m \u001b[38;5;28;01mfor\u001b[39;00m distance \u001b[38;5;129;01min\u001b[39;00m distances:\n\u001b[0;32m---> 11\u001b[0m     energy, runtime \u001b[38;5;241m=\u001b[39m \u001b[43mmodel_builder\u001b[49m\u001b[43m(\u001b[49m\u001b[38;5;124;43m\"\u001b[39;49m\u001b[38;5;124;43mLi\u001b[39;49m\u001b[38;5;124;43m\"\u001b[39;49m\u001b[43m,\u001b[49m\u001b[43mdistance\u001b[49m\u001b[43m,\u001b[49m\u001b[43m \u001b[49m\u001b[43mback\u001b[49m\u001b[43m,\u001b[49m\u001b[43m \u001b[49m\u001b[43mop\u001b[49m\u001b[43m)\u001b[49m\n\u001b[1;32m     12\u001b[0m     d_real[back]\u001b[38;5;241m.\u001b[39mappend(energy)\n\u001b[1;32m     13\u001b[0m     d_real[back\u001b[38;5;241m+\u001b[39m\u001b[38;5;124m\"\u001b[39m\u001b[38;5;124m_time\u001b[39m\u001b[38;5;124m\"\u001b[39m]\u001b[38;5;241m.\u001b[39mappend(runtime)\n",
      "Input \u001b[0;32mIn [6]\u001b[0m, in \u001b[0;36mmodel_builder\u001b[0;34m(atom, distance, backend, optimizer_name)\u001b[0m\n\u001b[1;32m     97\u001b[0m \u001b[38;5;66;03m#Solving problem \u001b[39;00m\n\u001b[1;32m     98\u001b[0m ground_state_solver \u001b[38;5;241m=\u001b[39m GroundStateEigensolver(qubit_converter, solver)\n\u001b[0;32m---> 99\u001b[0m res \u001b[38;5;241m=\u001b[39m \u001b[43mground_state_solver\u001b[49m\u001b[38;5;241;43m.\u001b[39;49m\u001b[43msolve\u001b[49m\u001b[43m(\u001b[49m\u001b[43mes_problem\u001b[49m\u001b[43m)\u001b[49m\n\u001b[1;32m    101\u001b[0m \u001b[38;5;66;03m# Output\u001b[39;00m\n\u001b[1;32m    102\u001b[0m t1_stop \u001b[38;5;241m=\u001b[39m process_time()\n",
      "File \u001b[0;32m/opt/conda/lib/python3.8/site-packages/qiskit_nature/algorithms/ground_state_solvers/ground_state_eigensolver.py:144\u001b[0m, in \u001b[0;36mGroundStateEigensolver.solve\u001b[0;34m(self, problem, aux_operators)\u001b[0m\n\u001b[1;32m    141\u001b[0m \u001b[38;5;28;01mif\u001b[39;00m \u001b[38;5;129;01mnot\u001b[39;00m \u001b[38;5;28mself\u001b[39m\u001b[38;5;241m.\u001b[39m_solver\u001b[38;5;241m.\u001b[39msupports_aux_operators():\n\u001b[1;32m    142\u001b[0m     aux_ops \u001b[38;5;241m=\u001b[39m \u001b[38;5;28;01mNone\u001b[39;00m\n\u001b[0;32m--> 144\u001b[0m raw_mes_result \u001b[38;5;241m=\u001b[39m \u001b[38;5;28;43mself\u001b[39;49m\u001b[38;5;241;43m.\u001b[39;49m\u001b[43m_solver\u001b[49m\u001b[38;5;241;43m.\u001b[39;49m\u001b[43mcompute_minimum_eigenvalue\u001b[49m\u001b[43m(\u001b[49m\u001b[43mmain_operator\u001b[49m\u001b[43m,\u001b[49m\u001b[43m \u001b[49m\u001b[43maux_ops\u001b[49m\u001b[43m)\u001b[49m\n\u001b[1;32m    146\u001b[0m result \u001b[38;5;241m=\u001b[39m problem\u001b[38;5;241m.\u001b[39minterpret(raw_mes_result)\n\u001b[1;32m    147\u001b[0m \u001b[38;5;28;01mreturn\u001b[39;00m result\n",
      "File \u001b[0;32m/opt/conda/lib/python3.8/site-packages/qiskit_nature/runtime/vqe_client.py:287\u001b[0m, in \u001b[0;36mVQEClient.compute_minimum_eigenvalue\u001b[0;34m(self, operator, aux_operators)\u001b[0m\n\u001b[1;32m    285\u001b[0m \u001b[38;5;66;03m# print job ID if something goes wrong\u001b[39;00m\n\u001b[1;32m    286\u001b[0m \u001b[38;5;28;01mtry\u001b[39;00m:\n\u001b[0;32m--> 287\u001b[0m     result \u001b[38;5;241m=\u001b[39m \u001b[43mjob\u001b[49m\u001b[38;5;241;43m.\u001b[39;49m\u001b[43mresult\u001b[49m\u001b[43m(\u001b[49m\u001b[43m)\u001b[49m\n\u001b[1;32m    288\u001b[0m \u001b[38;5;28;01mexcept\u001b[39;00m \u001b[38;5;167;01mException\u001b[39;00m \u001b[38;5;28;01mas\u001b[39;00m exc:\n\u001b[1;32m    289\u001b[0m     \u001b[38;5;28;01mraise\u001b[39;00m \u001b[38;5;167;01mRuntimeError\u001b[39;00m(\u001b[38;5;124mf\u001b[39m\u001b[38;5;124m\"\u001b[39m\u001b[38;5;124mThe job \u001b[39m\u001b[38;5;132;01m{\u001b[39;00mjob\u001b[38;5;241m.\u001b[39mjob_id()\u001b[38;5;132;01m}\u001b[39;00m\u001b[38;5;124m failed unexpectedly.\u001b[39m\u001b[38;5;124m\"\u001b[39m) \u001b[38;5;28;01mfrom\u001b[39;00m \u001b[38;5;21;01mexc\u001b[39;00m\n",
      "File \u001b[0;32m/opt/conda/lib/python3.8/site-packages/qiskit/providers/ibmq/runtime/runtime_job.py:149\u001b[0m, in \u001b[0;36mRuntimeJob.result\u001b[0;34m(self, timeout, wait, decoder)\u001b[0m\n\u001b[1;32m    147\u001b[0m _decoder \u001b[38;5;241m=\u001b[39m decoder \u001b[38;5;129;01mor\u001b[39;00m \u001b[38;5;28mself\u001b[39m\u001b[38;5;241m.\u001b[39m_result_decoder\n\u001b[1;32m    148\u001b[0m \u001b[38;5;28;01mif\u001b[39;00m \u001b[38;5;28mself\u001b[39m\u001b[38;5;241m.\u001b[39m_results \u001b[38;5;129;01mis\u001b[39;00m \u001b[38;5;28;01mNone\u001b[39;00m \u001b[38;5;129;01mor\u001b[39;00m (_decoder \u001b[38;5;241m!=\u001b[39m \u001b[38;5;28mself\u001b[39m\u001b[38;5;241m.\u001b[39m_result_decoder):\n\u001b[0;32m--> 149\u001b[0m     \u001b[38;5;28;43mself\u001b[39;49m\u001b[38;5;241;43m.\u001b[39;49m\u001b[43mwait_for_final_state\u001b[49m\u001b[43m(\u001b[49m\u001b[43mtimeout\u001b[49m\u001b[38;5;241;43m=\u001b[39;49m\u001b[43mtimeout\u001b[49m\u001b[43m,\u001b[49m\u001b[43m \u001b[49m\u001b[43mwait\u001b[49m\u001b[38;5;241;43m=\u001b[39;49m\u001b[43mwait\u001b[49m\u001b[43m)\u001b[49m\n\u001b[1;32m    150\u001b[0m     \u001b[38;5;28;01mif\u001b[39;00m \u001b[38;5;28mself\u001b[39m\u001b[38;5;241m.\u001b[39m_status \u001b[38;5;241m==\u001b[39m JobStatus\u001b[38;5;241m.\u001b[39mERROR:\n\u001b[1;32m    151\u001b[0m         \u001b[38;5;28;01mraise\u001b[39;00m RuntimeJobFailureError(\u001b[38;5;124mf\u001b[39m\u001b[38;5;124m\"\u001b[39m\u001b[38;5;124mUnable to retrieve job result. \u001b[39m\u001b[38;5;124m\"\u001b[39m\n\u001b[1;32m    152\u001b[0m                                      \u001b[38;5;124mf\u001b[39m\u001b[38;5;124m\"\u001b[39m\u001b[38;5;132;01m{\u001b[39;00m\u001b[38;5;28mself\u001b[39m\u001b[38;5;241m.\u001b[39merror_message()\u001b[38;5;132;01m}\u001b[39;00m\u001b[38;5;124m\"\u001b[39m)\n",
      "File \u001b[0;32m/opt/conda/lib/python3.8/site-packages/qiskit/providers/ibmq/runtime/runtime_job.py:213\u001b[0m, in \u001b[0;36mRuntimeJob.wait_for_final_state\u001b[0;34m(self, timeout, wait)\u001b[0m\n\u001b[1;32m    210\u001b[0m \u001b[38;5;28;01mif\u001b[39;00m timeout \u001b[38;5;129;01mis\u001b[39;00m \u001b[38;5;129;01mnot\u001b[39;00m \u001b[38;5;28;01mNone\u001b[39;00m \u001b[38;5;129;01mand\u001b[39;00m elapsed_time \u001b[38;5;241m>\u001b[39m\u001b[38;5;241m=\u001b[39m timeout:\n\u001b[1;32m    211\u001b[0m     \u001b[38;5;28;01mraise\u001b[39;00m JobTimeoutError(\n\u001b[1;32m    212\u001b[0m         \u001b[38;5;124m'\u001b[39m\u001b[38;5;124mTimeout while waiting for job \u001b[39m\u001b[38;5;132;01m{}\u001b[39;00m\u001b[38;5;124m.\u001b[39m\u001b[38;5;124m'\u001b[39m\u001b[38;5;241m.\u001b[39mformat(\u001b[38;5;28mself\u001b[39m\u001b[38;5;241m.\u001b[39mjob_id()))\n\u001b[0;32m--> 213\u001b[0m \u001b[43mtime\u001b[49m\u001b[38;5;241;43m.\u001b[39;49m\u001b[43msleep\u001b[49m\u001b[43m(\u001b[49m\u001b[43mwait\u001b[49m\u001b[43m)\u001b[49m\n\u001b[1;32m    214\u001b[0m status \u001b[38;5;241m=\u001b[39m \u001b[38;5;28mself\u001b[39m\u001b[38;5;241m.\u001b[39mstatus()\n",
      "\u001b[0;31mKeyboardInterrupt\u001b[0m: "
     ]
    }
   ],
   "source": [
    "distances = np.arange(0.5, 2.0, 0.2)\n",
    "backend_list = [\"runtime\"]\n",
    "optimizers = [\"SPSA\"]\n",
    "d_real = dict()\n",
    "for back in backend_list:\n",
    "    for op in optimizers:\n",
    "        print(back,\" optimizer: \", op)\n",
    "        d_real[back] = []\n",
    "        d_real[back+\"_time\"] = []\n",
    "        for distance in distances:\n",
    "            energy, runtime = model_builder(\"Li\",distance, back, op)\n",
    "            d_real[back].append(energy)\n",
    "            d_real[back+\"_time\"].append(runtime)\n",
    "            print(\"dist: \",distance,\"energy: \", energy, \"take time: \", runtime)\n",
    "with open('LiH_QuantumComputer.pickle', 'wb') as f:\n",
    "    pickle.dump(d_real, f)"
   ]
  },
  {
   "cell_type": "code",
   "execution_count": 47,
   "id": "df67361b-9ee9-4490-a4ab-19646311abd8",
   "metadata": {},
   "outputs": [],
   "source": [
    "with open('LiH_sim_iter.pickle', 'rb') as f:\n",
    "    d = pickle.load(f)\n",
    "d_real[\"runtime\"] = [-6.5304,-6.3521,-6.807,-7.423,-7.457,-7.007,-6.882]\n",
    "d_real[\"runtime_time\"] = [48.422,45.821,41.151,46.172,45.2,46.441,46.953]"
   ]
  },
  {
   "cell_type": "code",
   "execution_count": 45,
   "id": "5cf8d411-dc94-4cf2-bee4-0da5f8abb270",
   "metadata": {},
   "outputs": [],
   "source": [
    "distances = np.arange(0.5, 1.8, 0.2)\n",
    "distances_real = np.arange(0.5, 1.8, 0.2)\n",
    "def bond_length(d_list,e_list):\n",
    "    d = d_list[0]\n",
    "    e = e_list[0]\n",
    "    i = 1\n",
    "    while i < len(d_list):\n",
    "        if(e_list[i]<e):\n",
    "            e = e_list[i]\n",
    "            d = d_list[i]\n",
    "        i+=1\n",
    "    return d\n",
    "def plot(mini,useQC=False):\n",
    "    plt.plot(distances, d[\"numpy_eigen_solver\"+mini][:], label=\"Exact Energy\")\n",
    "    plt.plot(distances, d[\"aer_simulator_statevector\"+mini][:], label=\"VQE Energy (state vector)\")\n",
    "    plt.plot(distances, d[\"qasm_simulator\"+mini][:], label=\"VQE Energy (noise model)\")\n",
    "    if useQC:\n",
    "        plt.plot(distances_real, d_real[\"runtime\"], label=\"Quantum computer\")\n",
    "    plt.xlabel('Atomic distance (Angstrom)')\n",
    "    plt.ylabel('Energy(Hartree)')\n",
    "    plt.legend()\n",
    "    plt.show()\n",
    "def measure_length(mini, useQC=False):\n",
    "    print(\"exact: \", bond_length(distances,d[\"numpy_eigen_solver\"+mini]), \" Angstrom\")\n",
    "    print(\"VQE(state vector): \", bond_length(distances,d[\"aer_simulator_statevector\"+mini]), \" Angstrom\")\n",
    "    print(\"VQE(noise model): \", bond_length(distances,d[\"qasm_simulator\"+mini]), \" Angstrom\")\n",
    "    if useQC:\n",
    "        print(\"QC: \", bond_length(distances_real,d_real[\"runtime\"]), \" Angstrom\")    \n",
    "def average_time(mini, useQC=False):\n",
    "    print(\"exact: \",np.average(d[\"numpy_eigen_solver\"+mini+\"_time\"]),\" s\")\n",
    "    print(\"VQE(state vector): \", np.average(d[\"aer_simulator_statevector\"+mini+\"_time\"]), \" s\")\n",
    "    print(\"VQE(noise model): \", np.average(d[\"qasm_simulator\"+mini+\"_time\"]), \" s\")\n",
    "    if useQC:\n",
    "        print(\"QC: \", np.average(d_real[\"runtime_time\"]), \" s\")     "
   ]
  },
  {
   "cell_type": "code",
   "execution_count": 48,
   "id": "f6112b9a-8f1a-4670-994f-009de341dc95",
   "metadata": {},
   "outputs": [
    {
     "name": "stdout",
     "output_type": "stream",
     "text": [
      "SPSA\n"
     ]
    },
    {
     "data": {
      "image/png": "[encoded data removed]",
      "text/plain": [
       "<Figure size 432x288 with 1 Axes>"
      ]
     },
     "metadata": {
      "needs_background": "light"
     },
     "output_type": "display_data"
    },
    {
     "name": "stdout",
     "output_type": "stream",
     "text": [
      "exact:  1.4999999999999998  Angstrom\n",
      "VQE(state vector):  1.0999999999999999  Angstrom\n",
      "VQE(noise model):  1.0999999999999999  Angstrom\n",
      "exact:  34.309865099857106  s\n",
      "VQE(state vector):  34.829764138570944  s\n",
      "VQE(noise model):  210.6730465191426  s\n",
      "----------------\n",
      "COBYLA\n"
     ]
    },
    {
     "data": {
      "image/png": "[encoded data removed]",
      "text/plain": [
       "<Figure size 432x288 with 1 Axes>"
      ]
     },
     "metadata": {
      "needs_background": "light"
     },
     "output_type": "display_data"
    },
    {
     "name": "stdout",
     "output_type": "stream",
     "text": [
      "exact:  1.4999999999999998  Angstrom\n",
      "VQE(state vector):  1.4999999999999998  Angstrom\n",
      "VQE(noise model):  1.2999999999999998  Angstrom\n",
      "exact:  33.165225746142305  s\n",
      "VQE(state vector):  36.25571512542904  s\n",
      "VQE(noise model):  97.45905245528567  s\n",
      "----------------\n"
     ]
    }
   ],
   "source": [
    "optimizers = [\"SPSA\",\"COBYLA\"]\n",
    "for op in optimizers:\n",
    "    print(op)\n",
    "    useQC = False\n",
    "    if op==\"SPSA\":\n",
    "        useQC = False\n",
    "    plot(op,useQC)\n",
    "    measure_length(op,useQC)\n",
    "    average_time(op,useQC)\n",
    "    print(\"----------------\")"
   ]
  }
 ],
 "metadata": {
  "kernelspec": {
   "display_name": "Qiskit v0.35.0 (ipykernel)",
   "language": "python",
   "name": "python3"
  },
  "language_info": {
   "codemirror_mode": {
    "name": "ipython",
    "version": 3
   },
   "file_extension": ".py",
   "mimetype": "text/x-python",
   "name": "python",
   "nbconvert_exporter": "python",
   "pygments_lexer": "ipython3",
   "version": "3.8.13"
  },
  "widgets": {
   "application/vnd.jupyter.widget-state+json": {
    "state": {},
    "version_major": 2,
    "version_minor": 0
   }
  }
 },
 "nbformat": 4,
 "nbformat_minor": 5
}
